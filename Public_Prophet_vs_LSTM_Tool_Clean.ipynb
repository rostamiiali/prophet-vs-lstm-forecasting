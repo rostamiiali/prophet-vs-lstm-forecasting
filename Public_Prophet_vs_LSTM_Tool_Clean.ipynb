{
 "cells": [
  {
   "cell_type": "markdown",
   "metadata": {},
   "source": [
    "# 📈 Public Time Series Forecasting Tool\n",
    "Upload your own time series data (CSV with two columns: `ds` and `y`) or use the default sample.\n",
    "This notebook compares **Prophet** and **LSTM** models for forecasting."
   ]
  },
  {
   "cell_type": "code",
   "execution_count": null,
   "metadata": {},
   "outputs": [],
   "source": [
    "# Install required libraries\n",
    "!pip install prophet tensorflow scikit-learn pandas matplotlib --quiet"
   ]
  },
  {
   "cell_type": "code",
   "execution_count": null,
   "metadata": {},
   "outputs": [],
   "source": [
    "# Import libraries\n",
    "import pandas as pd\n",
    "import numpy as np\n",
    "import matplotlib.pyplot as plt\n",
    "from prophet import Prophet\n",
    "from sklearn.preprocessing import MinMaxScaler\n",
    "from tensorflow.keras.models import Sequential\n",
    "from tensorflow.keras.layers import LSTM, Dense"
   ]
  },
  {
   "cell_type": "code",
   "execution_count": null,
   "metadata": {},
   "outputs": [],
   "source": [
    "# Upload CSV or use default sample\n",
    "from google.colab import files\n",
    "import io\n",
    "try:\n",
    "    uploaded = files.upload()\n",
    "    df = pd.read_csv(io.BytesIO(list(uploaded.values())[0]))\n",
    "except:\n",
    "    print('No file uploaded. Using default sample data.')\n",
    "    months = pd.date_range(start='2022-01-01', periods=24, freq='M')\n",
    "    sales = [120, 130, 150, 140, 135, 145, 170, 165, 180, 250, 300, 320,\n",
    "             125, 135, 155, 145, 140, 150, 175, 170, 185, 260, 310, 330]\n",
    "    df = pd.DataFrame({'ds': months, 'y': sales})"
   ]
  },
  {
   "cell_type": "code",
   "execution_count": null,
   "metadata": {},
   "outputs": [],
   "source": [
    "# Prophet forecasting\n",
    "prophet = Prophet(yearly_seasonality=True, weekly_seasonality=False, daily_seasonality=False)\n",
    "prophet.add_seasonality(name='flu_season', period=12, fourier_order=4)\n",
    "prophet.fit(df)\n",
    "future = prophet.make_future_dataframe(periods=3, freq='M')\n",
    "forecast_prophet = prophet.predict(future)"
   ]
  },
  {
   "cell_type": "code",
   "execution_count": null,
   "metadata": {},
   "outputs": [],
   "source": [
    "# LSTM forecasting with 6-month window\n",
    "data = df['y'].values.reshape(-1, 1)\n",
    "scaler = MinMaxScaler()\n",
    "scaled = scaler.fit_transform(data)\n",
    "X, y = [], []\n",
    "window = 6\n",
    "for i in range(window, len(scaled)):\n",
    "    X.append(scaled[i-window:i])\n",
    "    y.append(scaled[i])\n",
    "X, y = np.array(X), np.array(y)\n",
    "model = Sequential()\n",
    "model.add(LSTM(50, activation='relu', input_shape=(window, 1)))\n",
    "model.add(Dense(1))\n",
    "model.compile(optimizer='adam', loss='mse')\n",
    "model.fit(X, y, epochs=200, verbose=0)"
   ]
  },
  {
   "cell_type": "code",
   "execution_count": null,
   "metadata": {},
   "outputs": [],
   "source": [
    "# Forecast next 3 months using LSTM\n",
    "input_seq = scaled[-window:].reshape(1, window, 1)\n",
    "preds = []\n",
    "for _ in range(3):\n",
    "    pred = model.predict(input_seq, verbose=0)[0]\n",
    "    preds.append(pred)\n",
    "    input_seq = np.append(input_seq[:, 1:, :], [[pred]], axis=1)\n",
    "lstm_forecast = scaler.inverse_transform(np.array(preds).reshape(-1, 1)).flatten()"
   ]
  },
  {
   "cell_type": "code",
   "execution_count": null,
   "metadata": {},
   "outputs": [],
   "source": [
    "# Plot forecasts\n",
    "plt.figure(figsize=(12, 6))\n",
    "plt.plot(df['ds'], df['y'], label='Actual Sales')\n",
    "plt.plot(forecast_prophet['ds'], forecast_prophet['yhat'], label='Prophet Forecast', linestyle='--')\n",
    "future_dates = pd.date_range(start=df['ds'].max() + pd.DateOffset(months=1), periods=3, freq='M')\n",
    "plt.plot(future_dates, lstm_forecast, label='LSTM Forecast', linestyle=':', marker='o')\n",
    "plt.title('Prophet vs LSTM Forecast')\n",
    "plt.xlabel('Date')\n",
    "plt.ylabel('Sales')\n",
    "plt.legend()\n",
    "plt.grid(True)\n",
    "plt.tight_layout()\n",
    "plt.show()"
   ]
  }
 ],
 "metadata": {
  "kernelspec": {
   "display_name": "Python 3",
   "language": "python",
   "name": "python3"
  },
  "language_info": {
   "name": "python"
  }
 },
 "nbformat": 4,
 "nbformat_minor": 5
}
